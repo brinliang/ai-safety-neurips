{
 "cells": [
  {
   "cell_type": "code",
   "execution_count": null,
   "metadata": {},
   "outputs": [],
   "source": [
    "import pandas as pd\n",
    "from openai import OpenAI\n",
    "\n",
    "# put your API key and (optionally) your organization here\n",
    "client = OpenAI(\n",
    "    api_key='',\n",
    "    organization='',\n",
    ")\n",
    "\n",
    "# load neurips data\n",
    "df = pd.read_pickle('data/neurips.pkl')\n",
    "\n",
    "# add category column\n",
    "df.insert(5, 'category', 'None')"
   ]
  },
  {
   "cell_type": "code",
   "execution_count": null,
   "metadata": {},
   "outputs": [],
   "source": [
    "# annotate all papers\n",
    "for i in range(len(df)):\n",
    "    print(i)\n",
    "    paper = df.iloc[i]\n",
    "\n",
    "    prompt = [\n",
    "        {\n",
    "            'role': 'user',\n",
    "            'content': f\"The following paper was published in NeurIPS:\\nTitle: {paper['title']}\\nAuthors: {paper['authors']}\\nAbstract: {paper['abstract']}\\n\\nCategorize this paper into one of the following categories: ['Algorithms', 'Applications', 'Data, Challenges, Implementations, and Software', 'Deep Learning', 'Neuroscience and Cognitive Science', 'Optimization', 'Probabilistic Methods', 'Reinforcement Learning and Planning', 'Theory', 'Safety and Alignment']. Output only the category name in the format <category name>. If the paper does not fit into any of these categories, output 'Other'.\"\n",
    "        }\n",
    "    ]\n",
    "\n",
    "    result = client.chat.completions.create(\n",
    "        messages=prompt,\n",
    "        model='gpt-3.5-turbo',\n",
    "    )\n",
    "\n",
    "    msg = result.choices[0].message.content\n",
    "\n",
    "    df.loc[i, 'category'] = msg[msg.find('<')+1:msg.find('>')]"
   ]
  },
  {
   "cell_type": "code",
   "execution_count": null,
   "metadata": {},
   "outputs": [],
   "source": [
    "# clean up\n",
    "categories = ['Algorithms', 'Applications', 'Data, Challenges, Implementations, and Software', 'Deep Learning', 'Neuroscience and Cognitive Science', 'Optimization', 'Probabilistic Methods', 'Reinforcement Learning and Planning', 'Theory', 'Safety and Alignment', 'Other']\n",
    "\n",
    "for i in range(len(df)):\n",
    "    if df.iloc[i]['category'] not in categories:\n",
    "        for category in categories:\n",
    "            if category in df.iloc[i]['category']:\n",
    "                print(f\"fixed: {df.iloc[i]['category']} -> {category}\")\n",
    "                df.at[i, 'category'] = category\n",
    "                break\n",
    "            elif df.iloc[i]['category'] in category:\n",
    "                print(f\"fixed: {df.iloc[i]['category']} -> {category}\")\n",
    "                df.at[i, 'category'] = category\n",
    "                break\n",
    "        else:\n",
    "            if df.iloc[i]['category'] in 'Security and Privacy':\n",
    "                print(f\"fixed: {df.iloc[i]['category']} -> Safety and Alignment\")\n",
    "                df.at[i, 'category'] = 'Safety and Alignment'\n",
    "            else:\n",
    "                print(f\"not fixed: {df.iloc[i]['category']}\")\n",
    "                df.at[i, 'category'] = 'Other'\n"
   ]
  },
  {
   "cell_type": "code",
   "execution_count": null,
   "metadata": {},
   "outputs": [],
   "source": [
    "# save data\n",
    "df.to_pickle('data/nips.pkl')"
   ]
  }
 ],
 "metadata": {
  "language_info": {
   "name": "python"
  }
 },
 "nbformat": 4,
 "nbformat_minor": 2
}
